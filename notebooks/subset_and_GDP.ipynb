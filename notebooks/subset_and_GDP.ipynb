{
 "cells": [
  {
   "cell_type": "code",
   "execution_count": 1,
   "id": "674b96d1-4dcb-4fa0-9fb0-13e156047519",
   "metadata": {},
   "outputs": [],
   "source": [
    "import polars as pl\n"
   ]
  },
  {
   "cell_type": "code",
   "execution_count": 2,
   "id": "c4a1a6b7-2161-49b4-871c-4069de6ba251",
   "metadata": {},
   "outputs": [
    {
     "data": {
      "text/plain": [
       "(27913, 4607)"
      ]
     },
     "execution_count": 2,
     "metadata": {},
     "output_type": "execute_result"
    }
   ],
   "source": [
    "vdem = pl.read_parquet(\"../vdemData/V-Dem-CY-Full+Others-v15.parquet\")\n",
    "vdem.shape"
   ]
  },
  {
   "cell_type": "code",
   "execution_count": null,
   "id": "37f003f9-c951-4f7b-b1fe-20958495198e",
   "metadata": {},
   "outputs": [],
   "source": [
    "# Define the list of EU member states plus USA and UK.\n",
    "subset_members = [\n",
    "    \"Austria\", \"Belgium\", \"Bulgaria\", \"Croatia\", \"Cyprus\",\n",
    "    \"Czech Republic\", \"Denmark\", \"Estonia\", \"Finland\", \"France\",\n",
    "    \"Germany\", \"Greece\", \"Hungary\", \"Ireland\", \"Italy\",\n",
    "    \"Latvia\", \"Lithuania\", \"Luxembourg\", \"Malta\", \"Netherlands\",\n",
    "    \"Poland\", \"Portugal\", \"Romania\", \"Slovakia\", \"Slovenia\",\n",
    "    \"Spain\", \"Sweden\", \"United States of America\", \"United Kingdom\"\n",
    "]\n",
    "target_countries = eu_members + [\"United States\", \"United Kingdom\"]\n",
    "\n",
    "# Filter the dataset for only those countries.\n",
    "# (Assuming the country column is named \"country_name\". If it’s different in your data, update accordingly.)\n",
    "subset = vdem.filter(pl.col(\"country_name\").is_in(target_countries))\n",
    "\n",
    "# Select the columns for country, year, and GDP.\n",
    "# (Assuming your GDP column is labeled \"gdp\". Adjust this column name if needed.)\n",
    "gdp_over_time = subset.select([\"country_name\", \"year\", \"gdp\"]).sort([\"country_name\", \"year\"])\n",
    "\n",
    "# Display the resulting dataset.\n",
    "print(gdp_over_time)\n"
   ]
  },
  {
   "cell_type": "code",
   "execution_count": 8,
   "id": "03445288-f521-4b8a-befe-e5f85edd9c2c",
   "metadata": {},
   "outputs": [
    {
     "name": "stdout",
     "output_type": "stream",
     "text": [
      "shape: (1_465, 3)\n",
      "┌───────────────┬──────┬───────────┐\n",
      "│ country       ┆ year ┆ gdp       │\n",
      "│ ---           ┆ ---  ┆ ---       │\n",
      "│ str           ┆ i64  ┆ f64       │\n",
      "╞═══════════════╪══════╪═══════════╡\n",
      "│ Austria       ┆ 1960 ┆ 6.6241e9  │\n",
      "│ Austria       ┆ 1961 ┆ 7.3466e9  │\n",
      "│ Austria       ┆ 1962 ┆ 7.7930e9  │\n",
      "│ Austria       ┆ 1963 ┆ 8.4141e9  │\n",
      "│ Austria       ┆ 1964 ┆ 9.2136e9  │\n",
      "│ …             ┆ …    ┆ …         │\n",
      "│ United States ┆ 2017 ┆ 1.9612e13 │\n",
      "│ United States ┆ 2018 ┆ 2.0657e13 │\n",
      "│ United States ┆ 2019 ┆ 2.1540e13 │\n",
      "│ United States ┆ 2020 ┆ 2.1354e13 │\n",
      "│ United States ┆ 2021 ┆ 2.3681e13 │\n",
      "└───────────────┴──────┴───────────┘\n"
     ]
    }
   ],
   "source": [
    "import requests\n",
    "import polars as pl\n",
    "\n",
    "# Mapping of target countries (EU member states, USA, UK) to their World Bank country codes.\n",
    "countries = {\n",
    "    \"Austria\": \"AUT\",\n",
    "    \"Belgium\": \"BEL\",\n",
    "    \"Bulgaria\": \"BGR\",\n",
    "    \"Croatia\": \"HRV\",\n",
    "    \"Cyprus\": \"CYP\",\n",
    "    \"Czech Republic\": \"CZE\",\n",
    "    \"Denmark\": \"DNK\",\n",
    "    \"Estonia\": \"EST\",\n",
    "    \"Finland\": \"FIN\",\n",
    "    \"France\": \"FRA\",\n",
    "    \"Germany\": \"DEU\",\n",
    "    \"Greece\": \"GRC\",\n",
    "    \"Hungary\": \"HUN\",\n",
    "    \"Ireland\": \"IRL\",\n",
    "    \"Italy\": \"ITA\",\n",
    "    \"Latvia\": \"LVA\",\n",
    "    \"Lithuania\": \"LTU\",\n",
    "    \"Luxembourg\": \"LUX\",\n",
    "    \"Malta\": \"MLT\",\n",
    "    \"Netherlands\": \"NLD\",\n",
    "    \"Poland\": \"POL\",\n",
    "    \"Portugal\": \"PRT\",\n",
    "    \"Romania\": \"ROU\",\n",
    "    \"Slovakia\": \"SVK\",\n",
    "    \"Slovenia\": \"SVN\",\n",
    "    \"Spain\": \"ESP\",\n",
    "    \"Sweden\": \"SWE\",\n",
    "    \"United States\": \"USA\",\n",
    "    \"United Kingdom\": \"GBR\"\n",
    "}\n",
    "\n",
    "# Combine all country codes into one string (separated by semicolons as required by the API)\n",
    "country_codes = \";\".join(countries.values())\n",
    "\n",
    "# Base URL for the World Bank API GDP indicator (current US dollars)\n",
    "base_url = f\"https://api.worldbank.org/v2/country/{country_codes}/indicator/NY.GDP.MKTP.CD\"\n",
    "params = {\n",
    "    \"format\": \"json\",\n",
    "    \"per_page\": 1000,  # Maximum number of records per page.\n",
    "    \"date\": \"1960:2021\"  # You can adjust this range as needed.\n",
    "}\n",
    "\n",
    "# First call to determine the total number of pages.\n",
    "response = requests.get(base_url, params=params)\n",
    "data = response.json()\n",
    "\n",
    "if not data or len(data) < 2:\n",
    "    raise ValueError(\"Unexpected API response structure.\")\n",
    "\n",
    "meta = data[0]\n",
    "total_pages = meta.get(\"pages\", 1)\n",
    "\n",
    "# Collect records from all pages.\n",
    "records = []\n",
    "for page in range(1, total_pages + 1):\n",
    "    params[\"page\"] = page\n",
    "    response = requests.get(base_url, params=params)\n",
    "    page_data = response.json()\n",
    "    \n",
    "    if page_data and len(page_data) > 1:\n",
    "        for entry in page_data[1]:\n",
    "            # Only include records that have a GDP value.\n",
    "            if entry.get(\"value\") is not None:\n",
    "                records.append({\n",
    "                    \"country\": entry[\"country\"][\"value\"],  # e.g., \"United States\"\n",
    "                    \"year\": int(entry[\"date\"]),            # Year as an integer\n",
    "                    \"gdp\": entry[\"value\"]                    # GDP value in current US dollars\n",
    "                })\n",
    "\n",
    "# Create a Polars DataFrame from the records.\n",
    "gdp_df = pl.DataFrame(records)\n",
    "\n",
    "# Sort the data for clarity (first by country, then by year).\n",
    "gdp_df = gdp_df.sort([\"country\", \"year\"])\n",
    "\n",
    "# Display the resulting GDP DataFrame.\n",
    "print(gdp_df)\n"
   ]
  },
  {
   "cell_type": "code",
   "execution_count": 6,
   "id": "c1bdde80-b744-4a6a-bf3e-1cba6a4bb65b",
   "metadata": {},
   "outputs": [
    {
     "data": {
      "text/plain": [
       "<bound method DataFrame.rows of shape: (1_465, 3)\n",
       "┌───────────────┬──────┬───────────┐\n",
       "│ country       ┆ year ┆ gdp       │\n",
       "│ ---           ┆ ---  ┆ ---       │\n",
       "│ str           ┆ i64  ┆ f64       │\n",
       "╞═══════════════╪══════╪═══════════╡\n",
       "│ Austria       ┆ 1960 ┆ 6.6241e9  │\n",
       "│ Austria       ┆ 1961 ┆ 7.3466e9  │\n",
       "│ Austria       ┆ 1962 ┆ 7.7930e9  │\n",
       "│ Austria       ┆ 1963 ┆ 8.4141e9  │\n",
       "│ Austria       ┆ 1964 ┆ 9.2136e9  │\n",
       "│ …             ┆ …    ┆ …         │\n",
       "│ United States ┆ 2017 ┆ 1.9612e13 │\n",
       "│ United States ┆ 2018 ┆ 2.0657e13 │\n",
       "│ United States ┆ 2019 ┆ 2.1540e13 │\n",
       "│ United States ┆ 2020 ┆ 2.1354e13 │\n",
       "│ United States ┆ 2021 ┆ 2.3681e13 │\n",
       "└───────────────┴──────┴───────────┘>"
      ]
     },
     "execution_count": 6,
     "metadata": {},
     "output_type": "execute_result"
    }
   ],
   "source": [
    "gdp_df.rows"
   ]
  },
  {
   "cell_type": "code",
   "execution_count": 9,
   "id": "eb02ba0d-ec23-4939-b850-78ecf07d5d68",
   "metadata": {},
   "outputs": [
    {
     "name": "stdout",
     "output_type": "stream",
     "text": [
      "shape: (29, 1)\n",
      "┌────────────────┐\n",
      "│ country        │\n",
      "│ ---            │\n",
      "│ str            │\n",
      "╞════════════════╡\n",
      "│ Austria        │\n",
      "│ Belgium        │\n",
      "│ Bulgaria       │\n",
      "│ Croatia        │\n",
      "│ Cyprus         │\n",
      "│ …              │\n",
      "│ Slovenia       │\n",
      "│ Spain          │\n",
      "│ Sweden         │\n",
      "│ United Kingdom │\n",
      "│ United States  │\n",
      "└────────────────┘\n"
     ]
    }
   ],
   "source": [
    "unique_countries = gdp_df.select(pl.col(\"country\")).unique()\n",
    "print(unique_countries)\n"
   ]
  },
  {
   "cell_type": "code",
   "execution_count": null,
   "id": "b6df6d28-74cf-4360-8be1-313259ad28c2",
   "metadata": {},
   "outputs": [],
   "source": []
  }
 ],
 "metadata": {
  "kernelspec": {
   "display_name": "Python 3 (ipykernel)",
   "language": "python",
   "name": "python3"
  },
  "language_info": {
   "codemirror_mode": {
    "name": "ipython",
    "version": 3
   },
   "file_extension": ".py",
   "mimetype": "text/x-python",
   "name": "python",
   "nbconvert_exporter": "python",
   "pygments_lexer": "ipython3",
   "version": "3.11.6"
  }
 },
 "nbformat": 4,
 "nbformat_minor": 5
}
